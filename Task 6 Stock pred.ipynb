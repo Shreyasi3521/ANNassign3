{
 "cells": [
  {
   "cell_type": "code",
   "execution_count": 1,
   "metadata": {},
   "outputs": [],
   "source": [
    "import numpy as np\n",
    "import matplotlib.pyplot as plt\n",
    "import pandas as pd\n",
    "import torch\n",
    "import torch.nn as nn\n",
    "from torch.autograd import Variable\n",
    "from sklearn.preprocessing import MinMaxScaler"
   ]
  },
  {
   "cell_type": "code",
   "execution_count": 2,
   "metadata": {},
   "outputs": [],
   "source": [
    "data=pd.read_csv('data/SP500.csv')"
   ]
  },
  {
   "cell_type": "code",
   "execution_count": 3,
   "metadata": {},
   "outputs": [
    {
     "data": {
      "text/html": [
       "<div>\n",
       "<style scoped>\n",
       "    .dataframe tbody tr th:only-of-type {\n",
       "        vertical-align: middle;\n",
       "    }\n",
       "\n",
       "    .dataframe tbody tr th {\n",
       "        vertical-align: top;\n",
       "    }\n",
       "\n",
       "    .dataframe thead th {\n",
       "        text-align: right;\n",
       "    }\n",
       "</style>\n",
       "<table border=\"1\" class=\"dataframe\">\n",
       "  <thead>\n",
       "    <tr style=\"text-align: right;\">\n",
       "      <th></th>\n",
       "      <th>Date</th>\n",
       "      <th>Open</th>\n",
       "      <th>High</th>\n",
       "      <th>Low</th>\n",
       "      <th>Close</th>\n",
       "      <th>Adj Close</th>\n",
       "      <th>Volume</th>\n",
       "    </tr>\n",
       "  </thead>\n",
       "  <tbody>\n",
       "    <tr>\n",
       "      <th>0</th>\n",
       "      <td>1927-12-30</td>\n",
       "      <td>17.660000</td>\n",
       "      <td>17.660000</td>\n",
       "      <td>17.660000</td>\n",
       "      <td>17.660000</td>\n",
       "      <td>17.660000</td>\n",
       "      <td>0</td>\n",
       "    </tr>\n",
       "    <tr>\n",
       "      <th>1</th>\n",
       "      <td>1928-01-03</td>\n",
       "      <td>17.760000</td>\n",
       "      <td>17.760000</td>\n",
       "      <td>17.760000</td>\n",
       "      <td>17.760000</td>\n",
       "      <td>17.760000</td>\n",
       "      <td>0</td>\n",
       "    </tr>\n",
       "    <tr>\n",
       "      <th>2</th>\n",
       "      <td>1928-01-04</td>\n",
       "      <td>17.719999</td>\n",
       "      <td>17.719999</td>\n",
       "      <td>17.719999</td>\n",
       "      <td>17.719999</td>\n",
       "      <td>17.719999</td>\n",
       "      <td>0</td>\n",
       "    </tr>\n",
       "    <tr>\n",
       "      <th>3</th>\n",
       "      <td>1928-01-05</td>\n",
       "      <td>17.549999</td>\n",
       "      <td>17.549999</td>\n",
       "      <td>17.549999</td>\n",
       "      <td>17.549999</td>\n",
       "      <td>17.549999</td>\n",
       "      <td>0</td>\n",
       "    </tr>\n",
       "    <tr>\n",
       "      <th>4</th>\n",
       "      <td>1928-01-06</td>\n",
       "      <td>17.660000</td>\n",
       "      <td>17.660000</td>\n",
       "      <td>17.660000</td>\n",
       "      <td>17.660000</td>\n",
       "      <td>17.660000</td>\n",
       "      <td>0</td>\n",
       "    </tr>\n",
       "  </tbody>\n",
       "</table>\n",
       "</div>"
      ],
      "text/plain": [
       "         Date       Open       High        Low      Close  Adj Close  Volume\n",
       "0  1927-12-30  17.660000  17.660000  17.660000  17.660000  17.660000       0\n",
       "1  1928-01-03  17.760000  17.760000  17.760000  17.760000  17.760000       0\n",
       "2  1928-01-04  17.719999  17.719999  17.719999  17.719999  17.719999       0\n",
       "3  1928-01-05  17.549999  17.549999  17.549999  17.549999  17.549999       0\n",
       "4  1928-01-06  17.660000  17.660000  17.660000  17.660000  17.660000       0"
      ]
     },
     "execution_count": 3,
     "metadata": {},
     "output_type": "execute_result"
    }
   ],
   "source": [
    "data.head()"
   ]
  },
  {
   "cell_type": "code",
   "execution_count": 4,
   "metadata": {},
   "outputs": [
    {
     "data": {
      "image/png": "[encoded data removed]",
      "text/plain": [
       "<Figure size 432x288 with 1 Axes>"
      ]
     },
     "metadata": {
      "needs_background": "light"
     },
     "output_type": "display_data"
    }
   ],
   "source": [
    "data[['Close']].plot()\n",
    "plt.ylabel(\"stock_price\")\n",
    "plt.title(\"Stock\")\n",
    "plt.show()"
   ]
  },
  {
   "cell_type": "code",
   "execution_count": 5,
   "metadata": {},
   "outputs": [
    {
     "name": "stderr",
     "output_type": "stream",
     "text": [
      "/home/shreyasi/anaconda3/lib/python3.7/site-packages/ipykernel_launcher.py:3: SettingWithCopyWarning: \n",
      "A value is trying to be set on a copy of a slice from a DataFrame.\n",
      "Try using .loc[row_indexer,col_indexer] = value instead\n",
      "\n",
      "See the caveats in the documentation: https://pandas.pydata.org/pandas-docs/stable/user_guide/indexing.html#returning-a-view-versus-a-copy\n",
      "  This is separate from the ipykernel package so we can avoid doing imports until\n"
     ]
    },
    {
     "data": {
      "text/html": [
       "<div>\n",
       "<style scoped>\n",
       "    .dataframe tbody tr th:only-of-type {\n",
       "        vertical-align: middle;\n",
       "    }\n",
       "\n",
       "    .dataframe tbody tr th {\n",
       "        vertical-align: top;\n",
       "    }\n",
       "\n",
       "    .dataframe thead th {\n",
       "        text-align: right;\n",
       "    }\n",
       "</style>\n",
       "<table border=\"1\" class=\"dataframe\">\n",
       "  <thead>\n",
       "    <tr style=\"text-align: right;\">\n",
       "      <th></th>\n",
       "      <th>Close</th>\n",
       "    </tr>\n",
       "  </thead>\n",
       "  <tbody>\n",
       "    <tr>\n",
       "      <th>0</th>\n",
       "      <td>-0.992158</td>\n",
       "    </tr>\n",
       "    <tr>\n",
       "      <th>1</th>\n",
       "      <td>-0.992099</td>\n",
       "    </tr>\n",
       "    <tr>\n",
       "      <th>2</th>\n",
       "      <td>-0.992122</td>\n",
       "    </tr>\n",
       "    <tr>\n",
       "      <th>3</th>\n",
       "      <td>-0.992223</td>\n",
       "    </tr>\n",
       "    <tr>\n",
       "      <th>4</th>\n",
       "      <td>-0.992158</td>\n",
       "    </tr>\n",
       "  </tbody>\n",
       "</table>\n",
       "</div>"
      ],
      "text/plain": [
       "      Close\n",
       "0 -0.992158\n",
       "1 -0.992099\n",
       "2 -0.992122\n",
       "3 -0.992223\n",
       "4 -0.992158"
      ]
     },
     "execution_count": 5,
     "metadata": {},
     "output_type": "execute_result"
    }
   ],
   "source": [
    "df=data[['Close']]\n",
    "scaler = MinMaxScaler(feature_range=(-1, 1))\n",
    "df['Close'] = scaler.fit_transform(df['Close'].values.reshape(-1,1))\n",
    "df.head()"
   ]
  },
  {
   "cell_type": "code",
   "execution_count": 6,
   "metadata": {},
   "outputs": [],
   "source": [
    "def split_data(stock, lookback):\n",
    "    data_raw = stock.to_numpy() # convert to numpy array\n",
    "    data = []\n",
    "    \n",
    "    # create all possible sequences of length seq_len\n",
    "    for index in range(len(data_raw) - lookback): \n",
    "        data.append(data_raw[index: index + lookback])\n",
    "    \n",
    "    data = np.array(data);\n",
    "    test_set_size = int(np.round(0.2*data.shape[0]));\n",
    "    train_set_size = data.shape[0] - (test_set_size);\n",
    "    \n",
    "    x_train = data[:train_set_size,:-1,:]\n",
    "    y_train = data[:train_set_size,-1,:]\n",
    "    \n",
    "    x_test = data[train_set_size:,:-1]\n",
    "    y_test = data[train_set_size:,-1,:]\n",
    "    \n",
    "    return [x_train, y_train, x_test, y_test]\n",
    "lookback = 20 # choose sequence length\n",
    "x_train, y_train, x_test, y_test = split_data(df, lookback)"
   ]
  },
  {
   "cell_type": "code",
   "execution_count": 7,
   "metadata": {},
   "outputs": [],
   "source": [
    "x_train = torch.from_numpy(x_train).type(torch.Tensor)\n",
    "x_test = torch.from_numpy(x_test).type(torch.Tensor)\n",
    "y_train = torch.from_numpy(y_train).type(torch.Tensor)\n",
    "y_test = torch.from_numpy(y_test).type(torch.Tensor)"
   ]
  },
  {
   "cell_type": "code",
   "execution_count": null,
   "metadata": {},
   "outputs": [],
   "source": []
  },
  {
   "cell_type": "code",
   "execution_count": 8,
   "metadata": {},
   "outputs": [],
   "source": [
    "class LSTM(nn.Module):\n",
    "    def __init__(self, input_dim, hidden_dim, num_layers, output_dim):\n",
    "        super(LSTM, self).__init__()\n",
    "        self.hidden_dim = hidden_dim\n",
    "        self.num_layers = num_layers\n",
    "        \n",
    "        self.lstm = nn.LSTM(input_dim, hidden_dim, num_layers, batch_first=True)\n",
    "        self.fc = nn.Linear(hidden_dim, output_dim)    \n",
    "    def forward(self, x):\n",
    "        h0 = torch.zeros(self.num_layers, x.size(0), self.hidden_dim).requires_grad_()\n",
    "        c0 = torch.zeros(self.num_layers, x.size(0), self.hidden_dim).requires_grad_()\n",
    "        out, (hn, cn) = self.lstm(x, (h0.detach(), c0.detach()))\n",
    "        out = self.fc(out[:, -1, :]) \n",
    "        return out"
   ]
  },
  {
   "cell_type": "code",
   "execution_count": 9,
   "metadata": {},
   "outputs": [],
   "source": [
    "model = LSTM(input_dim=1, hidden_dim=16, output_dim=1, num_layers=2)\n",
    "criterion = torch.nn.MSELoss(reduction='mean')\n",
    "optimiser = torch.optim.Adam(model.parameters(), lr=0.01)"
   ]
  },
  {
   "cell_type": "code",
   "execution_count": 10,
   "metadata": {},
   "outputs": [
    {
     "name": "stdout",
     "output_type": "stream",
     "text": [
      "epoch  0 loss:  1.2289127111434937\n",
      "epoch  1 loss:  1.066201090812683\n",
      "epoch  2 loss:  0.9049499034881592\n",
      "epoch  3 loss:  0.7229641079902649\n",
      "epoch  4 loss:  0.5129319429397583\n",
      "epoch  5 loss:  0.2890082001686096\n",
      "epoch  6 loss:  0.10248866677284241\n",
      "epoch  7 loss:  0.029389789327979088\n",
      "epoch  8 loss:  0.0909225270152092\n",
      "epoch  9 loss:  0.13827595114707947\n",
      "epoch  10 loss:  0.1318044662475586\n",
      "epoch  11 loss:  0.09948302805423737\n",
      "epoch  12 loss:  0.06571262329816818\n",
      "epoch  13 loss:  0.04263751953840256\n",
      "epoch  14 loss:  0.032733842730522156\n",
      "epoch  15 loss:  0.03315083682537079\n",
      "epoch  16 loss:  0.03919782117009163\n",
      "epoch  17 loss:  0.046524204313755035\n",
      "epoch  18 loss:  0.05216178670525551\n",
      "epoch  19 loss:  0.05469134822487831\n",
      "epoch  20 loss:  0.053935084491968155\n",
      "epoch  21 loss:  0.050536055117845535\n",
      "epoch  22 loss:  0.04558081552386284\n",
      "epoch  23 loss:  0.04029124602675438\n",
      "epoch  24 loss:  0.035772766917943954\n",
      "epoch  25 loss:  0.032811492681503296\n",
      "epoch  26 loss:  0.03173559531569481\n",
      "epoch  27 loss:  0.032372623682022095\n",
      "epoch  28 loss:  0.03413090109825134\n",
      "epoch  29 loss:  0.03619911149144173\n",
      "epoch  30 loss:  0.037806436419487\n",
      "epoch  31 loss:  0.03845023363828659\n",
      "epoch  32 loss:  0.03800894320011139\n",
      "epoch  33 loss:  0.03671273961663246\n",
      "epoch  34 loss:  0.03500627353787422\n",
      "epoch  35 loss:  0.03337244689464569\n",
      "epoch  36 loss:  0.032182853668928146\n",
      "epoch  37 loss:  0.03161485865712166\n",
      "epoch  38 loss:  0.03164335712790489\n",
      "epoch  39 loss:  0.03209064155817032\n",
      "epoch  40 loss:  0.03270614892244339\n",
      "epoch  41 loss:  0.033247388899326324\n",
      "epoch  42 loss:  0.033541180193424225\n",
      "epoch  43 loss:  0.033514730632305145\n",
      "epoch  44 loss:  0.033196017146110535\n",
      "epoch  45 loss:  0.03268923610448837\n",
      "epoch  46 loss:  0.032135434448719025\n",
      "epoch  47 loss:  0.03166913613677025\n",
      "epoch  48 loss:  0.031381990760564804\n",
      "epoch  49 loss:  0.0313020758330822\n",
      "epoch  50 loss:  0.03139341250061989\n",
      "epoch  51 loss:  0.03157461807131767\n",
      "epoch  52 loss:  0.031749796122312546\n",
      "epoch  53 loss:  0.03184067830443382\n",
      "epoch  54 loss:  0.03180914744734764\n",
      "epoch  55 loss:  0.031663570553064346\n",
      "epoch  56 loss:  0.031448621302843094\n",
      "epoch  57 loss:  0.031224627047777176\n",
      "epoch  58 loss:  0.03104492649435997\n",
      "epoch  59 loss:  0.030939489603042603\n",
      "epoch  60 loss:  0.03090900555253029\n",
      "epoch  61 loss:  0.030929692089557648\n",
      "epoch  62 loss:  0.03096519224345684\n",
      "epoch  63 loss:  0.0309804305434227\n",
      "epoch  64 loss:  0.030952773988246918\n",
      "epoch  65 loss:  0.03087731823325157\n",
      "epoch  66 loss:  0.03076549805700779\n",
      "epoch  67 loss:  0.030638638883829117\n",
      "epoch  68 loss:  0.030519120395183563\n",
      "epoch  69 loss:  0.03042229823768139\n",
      "epoch  70 loss:  0.030352072790265083\n",
      "epoch  71 loss:  0.030300971120595932\n",
      "epoch  72 loss:  0.03025440312922001\n",
      "epoch  73 loss:  0.03019697777926922\n",
      "epoch  74 loss:  0.030118398368358612\n",
      "epoch  75 loss:  0.03001653403043747\n",
      "epoch  76 loss:  0.02989708073437214\n",
      "epoch  77 loss:  0.02977011539041996\n",
      "epoch  78 loss:  0.029645442962646484\n",
      "epoch  79 loss:  0.02952851541340351\n",
      "epoch  80 loss:  0.029418596997857094\n",
      "epoch  81 loss:  0.029309473931789398\n",
      "epoch  82 loss:  0.029192162677645683\n",
      "epoch  83 loss:  0.02905844710767269\n",
      "epoch  84 loss:  0.02890363708138466\n",
      "epoch  85 loss:  0.02872765064239502\n",
      "epoch  86 loss:  0.02853388898074627\n",
      "epoch  87 loss:  0.028326718136668205\n",
      "epoch  88 loss:  0.028108539059758186\n",
      "epoch  89 loss:  0.02787821926176548\n",
      "epoch  90 loss:  0.027631554752588272\n",
      "epoch  91 loss:  0.02736365981400013\n",
      "epoch  92 loss:  0.027071865275502205\n",
      "epoch  93 loss:  0.026756834238767624\n",
      "epoch  94 loss:  0.026420237496495247\n",
      "epoch  95 loss:  0.026059621945023537\n",
      "epoch  96 loss:  0.025664668530225754\n",
      "epoch  97 loss:  0.025219984352588654\n",
      "epoch  98 loss:  0.02471344918012619\n",
      "epoch  99 loss:  0.0241412166506052\n"
     ]
    }
   ],
   "source": [
    "hist = np.zeros(100)\n",
    "lstm = []\n",
    "for t in range(100):\n",
    "    y_train_pred = model(x_train)    \n",
    "    loss = criterion(y_train_pred, y_train)\n",
    "    print(\"epoch \", t, \"loss: \", loss.item())\n",
    "    hist[t] = loss.item()    \n",
    "    optimiser.zero_grad()\n",
    "    loss.backward()\n",
    "    optimiser.step()"
   ]
  },
  {
   "cell_type": "code",
   "execution_count": 11,
   "metadata": {},
   "outputs": [],
   "source": [
    "y_test_pred = model(x_test)\n",
    "loss = criterion(y_test_pred, y_test)"
   ]
  },
  {
   "cell_type": "code",
   "execution_count": 12,
   "metadata": {},
   "outputs": [
    {
     "data": {
      "text/plain": [
       "0.6533375382423401"
      ]
     },
     "execution_count": 12,
     "metadata": {},
     "output_type": "execute_result"
    }
   ],
   "source": [
    "loss.item()"
   ]
  },
  {
   "cell_type": "code",
   "execution_count": 13,
   "metadata": {},
   "outputs": [],
   "source": [
    "y_pred=torch.cat((y_train_pred,y_test_pred),dim=0).detach()\n",
    "y=torch.cat((y_train,y_test),dim=0).detach()"
   ]
  },
  {
   "cell_type": "code",
   "execution_count": 14,
   "metadata": {},
   "outputs": [
    {
     "data": {
      "image/png": "[encoded data removed]",
      "text/plain": [
       "<Figure size 864x360 with 1 Axes>"
      ]
     },
     "metadata": {
      "needs_background": "light"
     },
     "output_type": "display_data"
    }
   ],
   "source": [
    "plt.figure(1, figsize=(12, 5))\n",
    "plt.plot(y, color = 'red', label = 'Real')\n",
    "plt.plot(y_pred, color = 'blue', label = 'Pred')\n",
    "plt.xlabel('Time')\n",
    "plt.ylabel('Stock Price')\n",
    "plt.legend()\n",
    "plt.show()"
   ]
  },
  {
   "cell_type": "code",
   "execution_count": 15,
   "metadata": {},
   "outputs": [
    {
     "data": {
      "text/plain": [
       "tensor([[-0.9070],\n",
       "        [-0.9070],\n",
       "        [-0.9070],\n",
       "        ...,\n",
       "        [-0.6745],\n",
       "        [-0.6740],\n",
       "        [-0.6757]])"
      ]
     },
     "execution_count": 15,
     "metadata": {},
     "output_type": "execute_result"
    }
   ],
   "source": [
    "y_pred"
   ]
  },
  {
   "cell_type": "code",
   "execution_count": null,
   "metadata": {},
   "outputs": [],
   "source": []
  }
 ],
 "metadata": {
  "kernelspec": {
   "display_name": "Python 3",
   "language": "python",
   "name": "python3"
  },
  "language_info": {
   "codemirror_mode": {
    "name": "ipython",
    "version": 3
   },
   "file_extension": ".py",
   "mimetype": "text/x-python",
   "name": "python",
   "nbconvert_exporter": "python",
   "pygments_lexer": "ipython3",
   "version": "3.7.6"
  }
 },
 "nbformat": 4,
 "nbformat_minor": 4
}
